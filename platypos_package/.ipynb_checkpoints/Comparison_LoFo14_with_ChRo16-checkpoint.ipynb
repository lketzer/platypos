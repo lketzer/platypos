{
 "cells": [
  {
   "cell_type": "code",
   "execution_count": 1,
   "metadata": {},
   "outputs": [
    {
     "name": "stdout",
     "output_type": "stream",
     "text": [
      "Number of processors:  4\n"
     ]
    }
   ],
   "source": [
    "import sys\n",
    "sys.path.append('/work2/lketzer/work/gitlab/plaml/plaml_package/')\n",
    "# Planet Class\n",
    "from Planet_class_LoFo14 import planet_LoFo14\n",
    "from Planet_class_Ot20 import planet_Ot20\n",
    "from Lx_evo_and_flux import Lx_evo, flux_at_planet_earth\n",
    "\n",
    "# sys.path.append('../plaml_package/population_evolution/')\n",
    "# from evolve_planet import evolve_one_planet, evolve_ensamble\n",
    "# from create_planet_chunks import create_planet_chunks\n",
    "# from create_summary_files import create_summary_files_with_final_planet_parameters\n",
    "\n",
    "import pandas as pd\n",
    "import numpy as np\n",
    "import matplotlib.pyplot as plt\n",
    "import matplotlib as mpl\n",
    "import matplotlib\n",
    "matplotlib.rcParams.update({'font.size': 18, 'legend.fontsize': 14})\n",
    "mpl.rcParams['axes.linewidth'] = 1.1 #set the value globally\n",
    "from matplotlib.ticker import ScalarFormatter, FormatStrFormatter\n",
    "import matplotlib.ticker as ticker\n",
    "import os\n",
    "import math\n",
    "from astroquery.nasa_exoplanet_archive import NasaExoplanetArchive\n",
    "from PyAstronomy import pyasl\n",
    "from astropy import constants as const\n",
    "# Use multiple cores for parallel processing\n",
    "import multiprocessing\n",
    "import multiprocessing as mp\n",
    "print(\"Number of processors: \", mp.cpu_count())\n",
    "import time\n",
    "import scipy\n",
    "from scipy import interpolate\n",
    "import random\n",
    "random.seed(42)\n",
    "\n",
    "\n",
    "# def get_period_from_a(M_star, a_pl):\n",
    "#     P_sec = (4*np.pi**2/(const.G.cgs*M_star*const.M_sun.cgs)*(a_pl*const.au.cgs)**3)**(0.5)\n",
    "#     return P_sec.value/(86400) # in days\n",
    "\n",
    "# def get_a_from_period(M_star, P):\n",
    "#     ahoch3 = (P*86400*u.s)**2 * (const.G.cgs*M_star*const.M_sun.cgs)/ (4*np.pi**2)\n",
    "#     return ((ahoch3**(1/3))/const.au.cgs).value # in days"
   ]
  },
  {
   "cell_type": "code",
   "execution_count": 113,
   "metadata": {},
   "outputs": [],
   "source": [
    "import Planet_models_LoFo14 as plmoLoFo14\n",
    "import Planet_models_ChRo16 as plmoChRo16"
   ]
  },
  {
   "cell_type": "markdown",
   "metadata": {},
   "source": [
    "# Chen & Rogers (2016 - Evolving Gaseous Sub-Neptunes with MESA"
   ]
  },
  {
   "cell_type": "code",
   "execution_count": null,
   "metadata": {},
   "outputs": [],
   "source": [
    "# Best fit Coefficients to Analytically Estimate the Radius of a Planet at Specified Mass, Composition, Irradiation Flux, and Age, Using Equation (5)\n",
    "\n",
    "Coefficient\tRocky-Core Planets\tIce-Rock-Core Planets\t\n",
    "c_0\t0.131 +or- 0.006\t0.169 +or- 0.008\t\n",
    "c_1\t-0.348 +or- 0.008\t-0.436 +or- 0.013\t\n",
    "c_2\t0.631 +or- 0.003\t0.572 +or- 0.005\t\n",
    "c_3\t0.104 +or- 0.006\t0.154 +or- 0.009\t\n",
    "c_4\t-0.179 +or- 0.005\t-0.173 +or- 0.007\t\n",
    "c_12\t0.028 +or- 0.002\t0.014 +or- 0.003\t\n",
    "c_13\t-0.168 +or- 0.002\t-0.210 +or- 0.003\t\n",
    "c_14\t0.008 +or- 0.003\t0.006 +or- 0.005\t\n",
    "c_23\t-0.045 +or- 0.001\t-0.048 +or- 0.001\t\n",
    "c_24\t-0.036 +or- 0.001\t-0.040 +or- 0.002\t\n",
    "c_34\t0.031 +or- 0.002\t0.031 +or- 0.002\t\n",
    "c_11\t0.209 +or- 0.005\t0.246 +or- 0.007\t\n",
    "c_22\t0.086 +or- 0.001\t0.074 +or- 0.001\t\n",
    "c_33\t0.052 +or- 0.002\t0.059 +or- 0.003\t\n",
    "c_44\t-0.009 +or- 0.002\t-0.006 +or- 0.003\t"
   ]
  },
  {
   "cell_type": "code",
   "execution_count": 114,
   "metadata": {},
   "outputs": [
    {
     "name": "stdout",
     "output_type": "stream",
     "text": [
      "6.067764602639636\n",
      "6.900831858860897\n"
     ]
    }
   ],
   "source": [
    "M_core = 5.\n",
    "fenv = 20.\n",
    "M_pl = M_core/(1-(fenv/100))\n",
    "flux_solar = 10.\n",
    "age = 100.\n",
    "\n",
    "print(plmoChRo16.calculate_planet_radius(M_core, fenv, age, flux_solar, \"rock\"))\n",
    "print(plmoLoFo14.calculate_planet_radius(M_core, fenv, age, flux_solar, \"solarZ\"))"
   ]
  },
  {
   "cell_type": "code",
   "execution_count": null,
   "metadata": {},
   "outputs": [],
   "source": []
  },
  {
   "cell_type": "code",
   "execution_count": 102,
   "metadata": {},
   "outputs": [
    {
     "data": {
      "text/plain": [
       "1.5222407211386284"
      ]
     },
     "execution_count": 102,
     "metadata": {},
     "output_type": "execute_result"
    }
   ],
   "source": [
    "0.97*M_core**0.28"
   ]
  },
  {
   "cell_type": "code",
   "execution_count": 97,
   "metadata": {},
   "outputs": [
    {
     "data": {
      "text/plain": [
       "1.4953487812212205"
      ]
     },
     "execution_count": 97,
     "metadata": {},
     "output_type": "execute_result"
    }
   ],
   "source": [
    "plmoLoFo14.calculate_core_radius(M_core)"
   ]
  },
  {
   "cell_type": "markdown",
   "metadata": {},
   "source": [
    "# Comparison to thermal evolution in LoFo14"
   ]
  },
  {
   "cell_type": "code",
   "execution_count": 5,
   "metadata": {},
   "outputs": [],
   "source": [
    "t_arr = np.logspace(np.log10(10), np.log10(5000), num=100)"
   ]
  },
  {
   "cell_type": "code",
   "execution_count": 10,
   "metadata": {},
   "outputs": [],
   "source": [
    "R_LoFo14 = plmoLoFo14.calculate_planet_radius(10., 10., t_arr, 100., \"solarZ\")"
   ]
  },
  {
   "cell_type": "code",
   "execution_count": 15,
   "metadata": {},
   "outputs": [
    {
     "data": {
      "image/png": "[encoded data removed]",
      "text/plain": [
       "<Figure size 720x360 with 1 Axes>"
      ]
     },
     "metadata": {
      "needs_background": "light"
     },
     "output_type": "display_data"
    }
   ],
   "source": [
    "fig, ax = plt.subplots(figsize=(10,5))\n",
    "ax.set_title(\"Thermal Evolution\")\n",
    "ax.plot(t_arr, R_LoFo14, ls=\"--\", label=\"LoFo14\")\n",
    "ax.set_xscale(\"log\")\n",
    "ax.set_ylabel(\"Radius [R$_\\oplus$]\")\n",
    "ax.set_xlabel(\"Time [Myr]\")\n",
    "ax.legend()\n",
    "plt.show()"
   ]
  },
  {
   "cell_type": "code",
   "execution_count": null,
   "metadata": {},
   "outputs": [],
   "source": []
  },
  {
   "cell_type": "code",
   "execution_count": null,
   "metadata": {},
   "outputs": [],
   "source": []
  }
 ],
 "metadata": {
  "kernelspec": {
   "display_name": "Python 3",
   "language": "python",
   "name": "python3"
  },
  "language_info": {
   "codemirror_mode": {
    "name": "ipython",
    "version": 3
   },
   "file_extension": ".py",
   "mimetype": "text/x-python",
   "name": "python",
   "nbconvert_exporter": "python",
   "pygments_lexer": "ipython3",
   "version": "3.7.2"
  }
 },
 "nbformat": 4,
 "nbformat_minor": 2
}
