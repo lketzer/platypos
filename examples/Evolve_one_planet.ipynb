{
 "cells": [
  {
   "cell_type": "code",
   "execution_count": 1,
   "metadata": {},
   "outputs": [],
   "source": [
    "import sys\n",
    "import os\n",
    "import numpy as np\n",
    "import pandas as pd\n",
    "import matplotlib.pyplot as plt\n",
    "from astropy import constants as const\n",
    "\n",
    "# remove this line if you installed platypos with pip\n",
    "sys.path.append('/work2/lketzer/work/gitlab/platypos_group/platypos/')\n",
    "import platypos\n",
    "from platypos import Planet_LoFo14\n",
    "from platypos import Planet_Ot20\n",
    "# import the classes with fixed step size for completeness\n",
    "from platypos.planet_LoFo14_PAPER import Planet_LoFo14_PAPER\n",
    "from platypos.planet_Ot20_PAPER import Planet_Ot20_PAPER\n",
    "import platypos.planet_models_LoFo14 as plmoLoFo14"
   ]
  },
  {
   "cell_type": "markdown",
   "metadata": {},
   "source": [
    "# Create Planet object and stellar evolutionary track"
   ]
  },
  {
   "cell_type": "markdown",
   "metadata": {},
   "source": [
    "## Example planet 1.1 - V1298Tau c with 5 Eearth mass core and measured radius (var. step)"
   ]
  },
  {
   "cell_type": "code",
   "execution_count": 13,
   "metadata": {},
   "outputs": [
    {
     "data": {
      "text/plain": [
       "{'star_id': 'V1298Tau',\n",
       " 'mass_star': 1.101,\n",
       " 'radius_star': 1.345,\n",
       " 'age': 23.0,\n",
       " 'Lbol': 3.5753520000000005e+33,\n",
       " 'Lx_age': 1.3e+30,\n",
       " 'Lx_sat_info': None,\n",
       " 'distance': 0.0825,\n",
       " 'metallicity': 'solarZ',\n",
       " 'flux': 136.04409090618665,\n",
       " 'has_evolved': False,\n",
       " 'planet_id': 'dummy',\n",
       " 'planet_info': 'Case 2 - obs. planet with radius, but no mass measurement',\n",
       " 'core_mass': 5.0,\n",
       " 'radius': 5.59,\n",
       " 'core_radius': 1.4953487812212205,\n",
       " 'fenv': 7.42119964332844,\n",
       " 'mass': 5.4008044830316075}"
      ]
     },
     "execution_count": 13,
     "metadata": {},
     "output_type": "execute_result"
    }
   ],
   "source": [
    "# (David et al. 2019, Chandra observation)\n",
    "L_bol, mass_star, radius_star = 0.934, 1.101, 1.345 # solar units\n",
    "age_star = 23. # Myr\n",
    "Lx_age = Lx_chandra = 1.3e30  # erg/s in energy band: (0.1-2.4 keV)\n",
    "Lx_age_error = 1.4e29\n",
    "\n",
    "# use dictionary to store star-parameters\n",
    "star_V1298Tau = {'star_id': 'V1298Tau', 'mass': mass_star, 'radius': radius_star, 'age': age_star, 'L_bol': L_bol, 'Lx_age': Lx_age}\n",
    "\n",
    "Lx_1Gyr, Lx_5Gyr = 2.10*10**28, 1.65*10**27\n",
    "track_low = {\"t_start\": star_V1298Tau[\"age\"], \"t_sat\": star_V1298Tau[\"age\"], \"t_curr\": 1000., \"t_5Gyr\": 5000., \"Lx_max\": Lx_age, \n",
    "         \"Lx_curr\": Lx_1Gyr, \"Lx_5Gyr\": Lx_5Gyr, \"dt_drop\": 20., \"Lx_drop_factor\": 16.}\n",
    "track_med = {\"t_start\": star_V1298Tau[\"age\"], \"t_sat\": star_V1298Tau[\"age\"], \"t_curr\": 1000., \"t_5Gyr\": 5000., \"Lx_max\": Lx_age, \n",
    "         \"Lx_curr\": Lx_1Gyr, \"Lx_5Gyr\": Lx_5Gyr, \"dt_drop\": 0., \"Lx_drop_factor\": 0.}\n",
    "track_high = {\"t_start\": star_V1298Tau[\"age\"], \"t_sat\": 240., \"t_curr\": 1000., \"t_5Gyr\": 5000., \"Lx_max\": Lx_age, \n",
    "         \"Lx_curr\": Lx_1Gyr, \"Lx_5Gyr\": Lx_5Gyr, \"dt_drop\": 0., \"Lx_drop_factor\": 0.}\n",
    "\n",
    "# planet c\n",
    "planet = {\"core_mass\": 5.0, \"radius\": 5.59, \"distance\": 0.0825, \"metallicity\": \"solarZ\"}\n",
    "\n",
    "pl = Planet_LoFo14(star_V1298Tau, planet)\n",
    "pl.__dict__"
   ]
  },
  {
   "cell_type": "markdown",
   "metadata": {},
   "source": [
    "### Example planet 1.1.1 - V1298Tau c with 5 Eearth mass core and measured radius (fixed step)"
   ]
  },
  {
   "cell_type": "code",
   "execution_count": 6,
   "metadata": {},
   "outputs": [],
   "source": [
    "pl = Planet_LoFo14_PAPER(star_V1298Tau, planet)"
   ]
  },
  {
   "cell_type": "markdown",
   "metadata": {},
   "source": [
    "## Example planet 1.2 - V1298Tau c with mass estimate from Otegi et al. (2020) and measured radius (var step)"
   ]
  },
  {
   "cell_type": "code",
   "execution_count": 3,
   "metadata": {},
   "outputs": [
    {
     "data": {
      "text/plain": [
       "{'star_id': 'V1298Tau',\n",
       " 'mass_star': 1.101,\n",
       " 'radius_star': 1.345,\n",
       " 'age': 23.0,\n",
       " 'Lbol': 3.5753520000000005e+33,\n",
       " 'Lx_age': 1.3e+30,\n",
       " 'distance': 0.0825,\n",
       " 'flux': 136.04409090618665,\n",
       " 'has_evolved': False,\n",
       " 'planet_id': 'dummy',\n",
       " 'radius': 5.59,\n",
       " 'mass': 26.391246598963903,\n",
       " 'Lx_sat_info': None}"
      ]
     },
     "execution_count": 3,
     "metadata": {},
     "output_type": "execute_result"
    }
   ],
   "source": [
    "pl = Planet_Ot20(star_V1298Tau, planet)\n",
    "pl.__dict__"
   ]
  },
  {
   "cell_type": "markdown",
   "metadata": {},
   "source": [
    "### Example planet 1.2.1 - V1298Tau c with mass estimate from Otegi et al. (2020) and measured radius (fixed step)"
   ]
  },
  {
   "cell_type": "code",
   "execution_count": 7,
   "metadata": {},
   "outputs": [
    {
     "data": {
      "text/plain": [
       "{'star_id': 'V1298Tau',\n",
       " 'mass_star': 1.101,\n",
       " 'radius_star': 1.345,\n",
       " 'age': 23.0,\n",
       " 'Lbol': 3.5753520000000005e+33,\n",
       " 'Lx_age': 1.3e+30,\n",
       " 'distance': 0.0825,\n",
       " 'flux': 136.04409090618665,\n",
       " 'has_evolved': False,\n",
       " 'planet_id': 'dummy',\n",
       " 'radius': 5.59,\n",
       " 'mass': 26.391246598963903,\n",
       " 'Lx_sat_info': None}"
      ]
     },
     "execution_count": 7,
     "metadata": {},
     "output_type": "execute_result"
    }
   ],
   "source": [
    "pl = Planet_Ot20_PAPER(star_V1298Tau, planet)\n",
    "pl.__dict__"
   ]
  },
  {
   "cell_type": "markdown",
   "metadata": {},
   "source": [
    "## Example planet 2 - artificial planet with specified core mass and envelope mass fraction"
   ]
  },
  {
   "cell_type": "code",
   "execution_count": 12,
   "metadata": {
    "scrolled": true
   },
   "outputs": [],
   "source": [
    "Lx_1Gyr, Lx_5Gyr = 2.10*10**28, 1.65*10**27\n",
    "\n",
    "dict_star = {'star_id': 'star_age1.0_mass0.89',\n",
    " 'mass': 0.8879632311581124,\n",
    " 'radius': None,\n",
    " 'age': 1.0,\n",
    " 'L_bol': 1.9992811847525246e+33/const.L_sun.cgs.value,\n",
    " 'Lx_age': 1.298868513129789e+30}\n",
    "\n",
    "dict_pl = {'distance': 0.12248611607793611,\n",
    " 'metallicity': 'solarZ',\n",
    "'fenv': 3.7544067802231664,\n",
    " 'core_mass': 4.490153906104026}\n",
    "\n",
    "track = {\"t_start\": dict_star[\"age\"], \"t_sat\": 100., \"t_curr\": 1000., \"t_5Gyr\": 5000., \"Lx_max\": Lx_age, \n",
    "         \"Lx_curr\": Lx_1Gyr, \"Lx_5Gyr\": Lx_5Gyr, \"dt_drop\": 0., \"Lx_drop_factor\": 0.}\n",
    "\n",
    "pl = Planet_LoFo14(dict_star, dict_pl)\n",
    "#pl.__dict__"
   ]
  },
  {
   "cell_type": "markdown",
   "metadata": {},
   "source": [
    "# Evolve & create outputs"
   ]
  },
  {
   "cell_type": "code",
   "execution_count": 14,
   "metadata": {},
   "outputs": [
    {
     "name": "stdout",
     "output_type": "stream",
     "text": [
      "CPU times: user 14.8 s, sys: 11.8 ms, total: 14.8 s\n",
      "Wall time: 14.8 s\n"
     ]
    }
   ],
   "source": [
    "%%time\n",
    "\n",
    "folder_id = \"dummy\"\n",
    "path_save = os.getcwd() + \"/\" + folder_id +\"/\"\n",
    "if not os.path.exists(path_save):\n",
    "    os.makedirs(path_save)\n",
    "else:\n",
    "    os.system(\"rm -r \" + path_save[:-1])\n",
    "    os.makedirs(path_save)\n",
    "\n",
    "t_final = 5007.\n",
    "pl.evolve_forward_and_create_full_output(t_final, 0.1, 0.1, \"yes\", \"yes\", track_high, path_save, folder_id)"
   ]
  },
  {
   "cell_type": "markdown",
   "metadata": {},
   "source": [
    "# Read in results and plot"
   ]
  },
  {
   "cell_type": "code",
   "execution_count": 15,
   "metadata": {},
   "outputs": [
    {
     "data": {
      "text/html": [
       "<div>\n",
       "<style scoped>\n",
       "    .dataframe tbody tr th:only-of-type {\n",
       "        vertical-align: middle;\n",
       "    }\n",
       "\n",
       "    .dataframe tbody tr th {\n",
       "        vertical-align: top;\n",
       "    }\n",
       "\n",
       "    .dataframe thead th {\n",
       "        text-align: right;\n",
       "    }\n",
       "</style>\n",
       "<table border=\"1\" class=\"dataframe\">\n",
       "  <thead>\n",
       "    <tr style=\"text-align: right;\">\n",
       "      <th></th>\n",
       "      <th>Time</th>\n",
       "      <th>Mass</th>\n",
       "      <th>Radius</th>\n",
       "      <th>Lx</th>\n",
       "    </tr>\n",
       "  </thead>\n",
       "  <tbody>\n",
       "    <tr>\n",
       "      <th>0</th>\n",
       "      <td>23.00</td>\n",
       "      <td>5.400804</td>\n",
       "      <td>5.590000</td>\n",
       "      <td>1.300000e+30</td>\n",
       "    </tr>\n",
       "    <tr>\n",
       "      <th>1</th>\n",
       "      <td>23.01</td>\n",
       "      <td>5.400013</td>\n",
       "      <td>5.585513</td>\n",
       "      <td>1.300000e+30</td>\n",
       "    </tr>\n",
       "    <tr>\n",
       "      <th>2</th>\n",
       "      <td>23.02</td>\n",
       "      <td>5.399224</td>\n",
       "      <td>5.581034</td>\n",
       "      <td>1.300000e+30</td>\n",
       "    </tr>\n",
       "    <tr>\n",
       "      <th>3</th>\n",
       "      <td>23.03</td>\n",
       "      <td>5.398437</td>\n",
       "      <td>5.576561</td>\n",
       "      <td>1.300000e+30</td>\n",
       "    </tr>\n",
       "    <tr>\n",
       "      <th>4</th>\n",
       "      <td>23.04</td>\n",
       "      <td>5.397653</td>\n",
       "      <td>5.572097</td>\n",
       "      <td>1.300000e+30</td>\n",
       "    </tr>\n",
       "  </tbody>\n",
       "</table>\n",
       "</div>"
      ],
      "text/plain": [
       "    Time      Mass    Radius            Lx\n",
       "0  23.00  5.400804  5.590000  1.300000e+30\n",
       "1  23.01  5.400013  5.585513  1.300000e+30\n",
       "2  23.02  5.399224  5.581034  1.300000e+30\n",
       "3  23.03  5.398437  5.576561  1.300000e+30\n",
       "4  23.04  5.397653  5.572097  1.300000e+30"
      ]
     },
     "execution_count": 15,
     "metadata": {},
     "output_type": "execute_result"
    }
   ],
   "source": [
    "df_pl = pl.read_results(path_save)\n",
    "df_pl.head()"
   ]
  },
  {
   "cell_type": "code",
   "execution_count": 19,
   "metadata": {},
   "outputs": [
    {
     "data": {
      "text/html": [
       "<div>\n",
       "<style scoped>\n",
       "    .dataframe tbody tr th:only-of-type {\n",
       "        vertical-align: middle;\n",
       "    }\n",
       "\n",
       "    .dataframe tbody tr th {\n",
       "        vertical-align: top;\n",
       "    }\n",
       "\n",
       "    .dataframe thead th {\n",
       "        text-align: right;\n",
       "    }\n",
       "</style>\n",
       "<table border=\"1\" class=\"dataframe\">\n",
       "  <thead>\n",
       "    <tr style=\"text-align: right;\">\n",
       "      <th></th>\n",
       "      <th>Time</th>\n",
       "      <th>Mass</th>\n",
       "      <th>Radius</th>\n",
       "      <th>Lx</th>\n",
       "    </tr>\n",
       "  </thead>\n",
       "  <tbody>\n",
       "    <tr>\n",
       "      <th>3186</th>\n",
       "      <td>54.86</td>\n",
       "      <td>5.000029</td>\n",
       "      <td>1.509584</td>\n",
       "      <td>1.300000e+30</td>\n",
       "    </tr>\n",
       "    <tr>\n",
       "      <th>3187</th>\n",
       "      <td>54.87</td>\n",
       "      <td>5.000020</td>\n",
       "      <td>1.506914</td>\n",
       "      <td>1.300000e+30</td>\n",
       "    </tr>\n",
       "    <tr>\n",
       "      <th>3188</th>\n",
       "      <td>54.88</td>\n",
       "      <td>5.000012</td>\n",
       "      <td>1.503741</td>\n",
       "      <td>1.300000e+30</td>\n",
       "    </tr>\n",
       "    <tr>\n",
       "      <th>3189</th>\n",
       "      <td>54.89</td>\n",
       "      <td>5.000003</td>\n",
       "      <td>1.499342</td>\n",
       "      <td>1.300000e+30</td>\n",
       "    </tr>\n",
       "    <tr>\n",
       "      <th>3190</th>\n",
       "      <td>54.90</td>\n",
       "      <td>5.000000</td>\n",
       "      <td>1.495349</td>\n",
       "      <td>1.300000e+30</td>\n",
       "    </tr>\n",
       "  </tbody>\n",
       "</table>\n",
       "</div>"
      ],
      "text/plain": [
       "       Time      Mass    Radius            Lx\n",
       "3186  54.86  5.000029  1.509584  1.300000e+30\n",
       "3187  54.87  5.000020  1.506914  1.300000e+30\n",
       "3188  54.88  5.000012  1.503741  1.300000e+30\n",
       "3189  54.89  5.000003  1.499342  1.300000e+30\n",
       "3190  54.90  5.000000  1.495349  1.300000e+30"
      ]
     },
     "execution_count": 19,
     "metadata": {},
     "output_type": "execute_result"
    }
   ],
   "source": [
    "df_pl.tail()"
   ]
  },
  {
   "cell_type": "code",
   "execution_count": 15,
   "metadata": {},
   "outputs": [],
   "source": [
    "# fig, ax = plt.subplots(figsize=(10,5))\n",
    "# ax.plot(df_pl[\"Time\"], df_pl[\"Lx\"])\n",
    "# ax.loglog()\n",
    "# plt.show()"
   ]
  },
  {
   "cell_type": "code",
   "execution_count": 20,
   "metadata": {},
   "outputs": [
    {
     "data": {
      "image/png": "[encoded data removed]",
      "text/plain": [
       "<Figure size 720x360 with 1 Axes>"
      ]
     },
     "metadata": {
      "needs_background": "light"
     },
     "output_type": "display_data"
    }
   ],
   "source": [
    "fig, ax = plt.subplots(figsize=(10,5))\n",
    "age_arr = np.logspace(np.log10(pl.age), np.log10(t_final), 100)\n",
    "\n",
    "if (type(pl) == platypos.planet_LoFo14.Planet_LoFo14\n",
    "        or type(pl) == platypos.planet_LoFo14_PAPER.Planet_LoFo14_PAPER):\n",
    "    ax.plot(age_arr, plmoLoFo14.calculate_planet_radius(pl.core_mass, pl.fenv, age_arr, pl.flux, pl.metallicity), \\\n",
    "            lw=2.5, label='thermal contraction only', color=\"blue\")\n",
    "    ax.plot(df_pl[\"Time\"], df_pl[\"Radius\"], \n",
    "            marker=\"None\", ls=\"--\", label='with photoevaporation', color=\"red\")\n",
    "else:\n",
    "    ax.plot(df_pl[\"Time\"], df_pl[\"Radius\"], marker=\"None\", ls=\"--\", label='with photoevaporation', color=\"red\")\n",
    "\n",
    "ax.legend(fontsize=10)\n",
    "ax.set_xlabel(\"Time [Myr]\", fontsize=16)\n",
    "ax.set_ylabel(\"Radius [R$_\\oplus$]\", fontsize=16)\n",
    "ax.set_xscale('log')\n",
    "#ax.set_ylim(5.15, 5.62)\n",
    "plt.show()"
   ]
  }
 ],
 "metadata": {
  "kernelspec": {
   "display_name": "Python 3",
   "language": "python",
   "name": "python3"
  },
  "language_info": {
   "codemirror_mode": {
    "name": "ipython",
    "version": 3
   },
   "file_extension": ".py",
   "mimetype": "text/x-python",
   "name": "python",
   "nbconvert_exporter": "python",
   "pygments_lexer": "ipython3",
   "version": "3.7.3"
  },
  "toc": {
   "base_numbering": 1,
   "nav_menu": {},
   "number_sections": true,
   "sideBar": true,
   "skip_h1_title": false,
   "title_cell": "Table of Contents",
   "title_sidebar": "Contents",
   "toc_cell": false,
   "toc_position": {},
   "toc_section_display": true,
   "toc_window_display": false
  },
  "varInspector": {
   "cols": {
    "lenName": 16,
    "lenType": 16,
    "lenVar": 40
   },
   "kernels_config": {
    "python": {
     "delete_cmd_postfix": "",
     "delete_cmd_prefix": "del ",
     "library": "var_list.py",
     "varRefreshCmd": "print(var_dic_list())"
    },
    "r": {
     "delete_cmd_postfix": ") ",
     "delete_cmd_prefix": "rm(",
     "library": "var_list.r",
     "varRefreshCmd": "cat(var_dic_list()) "
    }
   },
   "types_to_exclude": [
    "module",
    "function",
    "builtin_function_or_method",
    "instance",
    "_Feature"
   ],
   "window_display": false
  }
 },
 "nbformat": 4,
 "nbformat_minor": 4
}
