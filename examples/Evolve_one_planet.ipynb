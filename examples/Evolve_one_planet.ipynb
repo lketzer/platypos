{
 "cells": [
  {
   "cell_type": "code",
   "execution_count": 2,
   "metadata": {},
   "outputs": [
    {
     "name": "stdout",
     "output_type": "stream",
     "text": [
      "The line_profiler extension is already loaded. To reload it, use:\n",
      "  %reload_ext line_profiler\n"
     ]
    }
   ],
   "source": [
    "import sys\n",
    "import os\n",
    "import numpy as np\n",
    "import pandas as pd\n",
    "import matplotlib.pyplot as plt\n",
    "from astropy import constants as const\n",
    "import astropy.units as u\n",
    "from matplotlib.ticker import FuncFormatter\n",
    "\n",
    "# remove this line if you installed platypos with pip\n",
    "sys.path.append('/media/laura/SSD2lin/Dropbox/PhD_2/Python_Projects/PLATYPOS/platypos/')\n",
    "from platypos import Planet_LoFo14\n",
    "from platypos import Planet_ChRo16\n",
    "from platypos import Planet_Ot20\n",
    "import platypos.planet_models_LoFo14 as plmoLoFo14\n",
    "import platypos.planet_models_ChRo16 as plmoChRo16\n",
    "import platypos.planet_model_Ot20 as plmoOt20\n",
    "\n",
    "from platypos.mass_loss_rate_function import mass_loss_rate, mass_loss_rate_RRlim, mass_loss_rate_Elim, mass_loss_rate_HBA\n",
    "from platypos.lx_evo_and_flux import flux_at_planet_earth, l_xuv_all, flux_at_planet, lx_evo\n",
    "from platypos.lx_evo_and_flux import calculate_EUV_luminosity_Linsky13_15\n",
    "\n",
    "sys.path.append('/media/laura/SSD2lin/Dropbox/PhD_2/Python_Projects/PLATYPOS/multitrack/')\n",
    "import multitrack.keplers_3rd_law as kepler3\n",
    "\n",
    "# # import the classes with fixed step size for completeness\n",
    "# from platypos.planet_LoFo14_PAPER import Planet_LoFo14_PAPER\n",
    "# from platypos.planet_Ot20_PAPER import Planet_Ot20_PAPER\n",
    "\n",
    "%load_ext line_profiler"
   ]
  },
  {
   "cell_type": "markdown",
   "metadata": {},
   "source": [
    "# Mass-loss rate calculations"
   ]
  },
  {
   "cell_type": "code",
   "execution_count": 3,
   "metadata": {},
   "outputs": [
    {
     "name": "stdout",
     "output_type": "stream",
     "text": [
      "<class 'platypos.planet_LoFo14.Planet_LoFo14'>\n",
      "True\n",
      "<class 'platypos.planet_LoFo14.Planet_LoFo14'>\n",
      "False\n",
      "R = 1.4953487812212205\n",
      "R = 3.555088360266891\n",
      "M = 5.1000000000000005\n",
      "a = 0.09083849553562486\n",
      "R_RL = 36.68823415226986\n",
      "P =  10.0\n",
      "\n",
      "XUV Flux = 7.221286E+04\n",
      "X-ray Flux = 5.601996E+04\n",
      "EUV Flux = 1.619290E+04\n",
      "\n",
      "R_XUV, R_X, R_EUV with cutoff Salz beta AND RL cutoff\n"
     ]
    },
    {
     "ename": "TypeError",
     "evalue": "mass_loss_rate_Elim() got an unexpected keyword argument 'beta_on'",
     "output_type": "error",
     "traceback": [
      "\u001b[0;31m---------------------------------------------------------------------------\u001b[0m",
      "\u001b[0;31mTypeError\u001b[0m                                 Traceback (most recent call last)",
      "\u001b[0;32m<ipython-input-3-4ea4ff684aa9>\u001b[0m in \u001b[0;36m<module>\u001b[0;34m()\u001b[0m\n\u001b[1;32m     80\u001b[0m                      \u001b[0mFxuv\u001b[0m\u001b[0;34m=\u001b[0m\u001b[0mflux_at_planet\u001b[0m\u001b[0;34m(\u001b[0m\u001b[0ml_xuv_all\u001b[0m\u001b[0;34m(\u001b[0m\u001b[0mpl\u001b[0m\u001b[0;34m.\u001b[0m\u001b[0mLx_age\u001b[0m\u001b[0;34m)\u001b[0m\u001b[0;34m,\u001b[0m \u001b[0mpl\u001b[0m\u001b[0;34m.\u001b[0m\u001b[0mdistance\u001b[0m\u001b[0;34m)\u001b[0m\u001b[0;34m,\u001b[0m\u001b[0;34m\u001b[0m\u001b[0;34m\u001b[0m\u001b[0m\n\u001b[1;32m     81\u001b[0m                      \u001b[0mepsilon\u001b[0m\u001b[0;34m=\u001b[0m\u001b[0;36m0.1\u001b[0m\u001b[0;34m,\u001b[0m \u001b[0mK_on\u001b[0m\u001b[0;34m=\u001b[0m\u001b[0;34m\"yes\"\u001b[0m\u001b[0;34m,\u001b[0m \u001b[0mbeta_on\u001b[0m\u001b[0;34m=\u001b[0m\u001b[0;34m\"yes\"\u001b[0m\u001b[0;34m,\u001b[0m\u001b[0;34m\u001b[0m\u001b[0;34m\u001b[0m\u001b[0m\n\u001b[0;32m---> 82\u001b[0;31m                      beta_cutoff=True)\n\u001b[0m\u001b[1;32m     83\u001b[0m Mdot_Elim_X = mass_loss_rate_Elim(pl, \n\u001b[1;32m     84\u001b[0m                      \u001b[0mM_p\u001b[0m\u001b[0;34m=\u001b[0m\u001b[0mpl\u001b[0m\u001b[0;34m.\u001b[0m\u001b[0mmass\u001b[0m\u001b[0;34m,\u001b[0m \u001b[0mR_p\u001b[0m\u001b[0;34m=\u001b[0m\u001b[0mpl\u001b[0m\u001b[0;34m.\u001b[0m\u001b[0mradius\u001b[0m\u001b[0;34m,\u001b[0m\u001b[0;34m\u001b[0m\u001b[0;34m\u001b[0m\u001b[0m\n",
      "\u001b[0;31mTypeError\u001b[0m: mass_loss_rate_Elim() got an unexpected keyword argument 'beta_on'"
     ]
    }
   ],
   "source": [
    "L_bol, mass_star, radius_star = 1., 1., 1.\n",
    "age_star = 10. # Myr\n",
    "Lx_age = Lx_chandra = 1.3e30  # erg/s in energy band: (0.1-2.4 keV)\n",
    "\n",
    "#age_star = 5e3 # Myr\n",
    "#Lx_age = Lx_chandra = 1.65*10**27  # erg/s in energy band: (0.1-2.4 keV)\n",
    "\n",
    "\n",
    "# use dictionary to store star-parameters\n",
    "star = {'star_id': 'dummy', 'mass': mass_star,\n",
    "        'radius': radius_star, 'age': age_star,\n",
    "        'L_bol': L_bol, 'Lx_age': Lx_age}\n",
    "\n",
    "Lx_1Gyr, Lx_5Gyr = 2.10*10**28, 1.65*10**27\n",
    "track_low = {\"t_start\": star[\"age\"], \"t_sat\": star[\"age\"],\n",
    "             \"t_curr\": 1000., \"t_5Gyr\": 5000., \"Lx_max\": Lx_age, \n",
    "             \"Lx_curr\": Lx_1Gyr, \"Lx_5Gyr\": Lx_5Gyr, \"dt_drop\": 20.,\n",
    "             \"Lx_drop_factor\": 16.}\n",
    "track_med = {\"t_start\": star[\"age\"], \"t_sat\": star[\"age\"],\n",
    "             \"t_curr\": 1000., \"t_5Gyr\": 5000., \"Lx_max\": Lx_age,\n",
    "             \"Lx_curr\": Lx_1Gyr, \"Lx_5Gyr\": Lx_5Gyr, \"dt_drop\": 0.,\n",
    "             \"Lx_drop_factor\": 0.}\n",
    "track_high = {\"t_start\": star[\"age\"], \"t_sat\": 240., \"t_curr\": 1000.,\n",
    "              \"t_5Gyr\": 5000., \"Lx_max\": Lx_age, \"Lx_curr\": Lx_1Gyr,\n",
    "              \"Lx_5Gyr\": Lx_5Gyr, \"dt_drop\": 0., \"Lx_drop_factor\": 0.}\n",
    "\n",
    "\n",
    "# # Ot20 planet\n",
    "# planet = {\"radius\": 4.0,\n",
    "#           \"distance\": 0.5}\n",
    "# pl = Planet_Ot20(star, planet)\n",
    "# print(type(pl))\n",
    "# print(isinstance(pl, Planet_Ot20))\n",
    "# print(pl.radius, pl.mass)\n",
    "# planet = {\"mass\": 11.0,\n",
    "#           \"distance\": 0.5}\n",
    "# pl = Planet_Ot20(star, planet)\n",
    "# print(type(pl))\n",
    "# print(isinstance(pl, Planet_Ot20))\n",
    "# print(pl.radius, pl.mass)\n",
    "\n",
    "# LoFo14 planet\n",
    "planet = {\"core_mass\": 5.0, \"fenv\": 10.0,\n",
    "          \"distance\": 0.1, \"metallicity\": \"solarZ\"}\n",
    "pl = Planet_LoFo14(star, planet)\n",
    "print(type(pl))\n",
    "print(isinstance(pl, Planet_LoFo14))\n",
    "\n",
    "M_env = 1e-1\n",
    "M_core = 5.0\n",
    "M_pl = M_env + M_core\n",
    "fenv = (M_env / (M_env + M_core))*100\n",
    "\n",
    "period = 10.0 # days\n",
    "a = kepler3.get_a_from_period(star[\"mass\"], M_pl, period)\n",
    "\n",
    "# ChRo16 planet\n",
    "planet = {\"core_mass\": M_core, \"fenv\": fenv,\n",
    "          \"distance\": a, \"core_comp\": \"rock\"}\n",
    "pl = Planet_ChRo16(star, planet)\n",
    "planet = {\"core_mass\": M_core, \"fenv\": fenv,\n",
    "          \"distance\": a, \"metallicity\": \"solarZ\"}\n",
    "pl = Planet_LoFo14(star, planet)\n",
    "print(type(pl))\n",
    "print(isinstance(pl, Planet_ChRo16))\n",
    "print(\"R =\", pl.core_radius)\n",
    "print(\"R =\", pl.radius)\n",
    "print(\"M =\", pl.mass)\n",
    "print(\"a =\", pl.distance)\n",
    "print(\"R_RL =\", pl.radius_RL)\n",
    "print(\"P = \", period)\n",
    "\n",
    "print(\"\\nXUV Flux = {:1E}\".format(flux_at_planet(l_xuv_all(pl.Lx_age), pl.distance)))\n",
    "print(\"X-ray Flux = {:1E}\".format(flux_at_planet(pl.Lx_age, pl.distance)))\n",
    "print(\"EUV Flux = {:1E}\".format(flux_at_planet(calculate_EUV_luminosity_Linsky13_15(pl.Lx_age), pl.distance)))\n",
    "\n",
    "print(\"\\nR_XUV, R_X, R_EUV with cutoff Salz beta AND RL cutoff\")\n",
    "Mdot_Elim_XUV = mass_loss_rate_Elim(pl, \n",
    "                     M_p=pl.mass, R_p=pl.radius,\n",
    "                     Fxuv=flux_at_planet(l_xuv_all(pl.Lx_age), pl.distance),\n",
    "                     epsilon=0.1, K_on=\"yes\", beta_on=\"yes\",\n",
    "                     beta_cutoff=True)\n",
    "Mdot_Elim_X = mass_loss_rate_Elim(pl, \n",
    "                     M_p=pl.mass, R_p=pl.radius,\n",
    "                     Fxuv=flux_at_planet(pl.Lx_age, pl.distance),\n",
    "                     epsilon=0.1, K_on=\"yes\", beta_on=\"yes\",\n",
    "                     beta_cutoff=True)\n",
    "Mdot_Elim_EUV = mass_loss_rate_Elim(pl, \n",
    "                     M_p=pl.mass, R_p=pl.radius,\n",
    "                     Fxuv=flux_at_planet(calculate_EUV_luminosity_Linsky13_15(pl.Lx_age), pl.distance),\n",
    "                     epsilon=0.1, K_on=\"yes\", beta_on=\"yes\",\n",
    "                     beta_cutoff=True)\n",
    "print(\"\\nR_XUV with beta off\")\n",
    "Mdot_Elim_nobeta = mass_loss_rate_Elim(pl, \n",
    "                     M_p=pl.mass, R_p=pl.radius,\n",
    "                     Fxuv=flux_at_planet(l_xuv_all(pl.Lx_age), pl.distance),\n",
    "                     epsilon=0.1, K_on=\"yes\", beta_on=\"no\")\n",
    "\n",
    "print(\"\\nR_XUV with Salz beta (no beta cutoff)\")\n",
    "Mdot_Elim_nocutoff = mass_loss_rate_Elim(pl, \n",
    "                     M_p=pl.mass, R_p=pl.radius,\n",
    "                     Fxuv=flux_at_planet(l_xuv_all(pl.Lx_age), pl.distance),\n",
    "                     epsilon=0.1, K_on=\"yes\", beta_on=\"yes\",\n",
    "                     beta_cutoff=False)\n",
    "print(\"R_XUV with Salz beta (no beta cutoff) but NO RL cutoff\")\n",
    "Mdot_Elim_XUV_oldbeta = mass_loss_rate_Elim(pl, \n",
    "                     M_p=pl.mass, R_p=pl.radius,\n",
    "                     Fxuv=flux_at_planet(l_xuv_all(pl.Lx_age), pl.distance),\n",
    "                     epsilon=0.1, K_on=\"yes\", beta_on=\"yes_old\",\n",
    "                     beta_cutoff=False)\n",
    "\n",
    "print(\"\\nR_base without RL cutoff\")\n",
    "Mdot_Elim_Rbase = mass_loss_rate_Elim(pl, \n",
    "                     M_p=pl.mass, R_p=pl.radius,\n",
    "                     Fxuv=flux_at_planet(l_xuv_all(pl.Lx_age), pl.distance),\n",
    "                     epsilon=0.1, K_on=\"yes\", beta_on=\"yes_Lo17\")\n",
    "print(\"R_base with RL cutoff\")\n",
    "Mdot_Elim_Rbase_RLcut = mass_loss_rate_Elim(pl, \n",
    "                     M_p=pl.mass, R_p=pl.radius,\n",
    "                     Fxuv=flux_at_planet(l_xuv_all(pl.Lx_age), pl.distance),\n",
    "                     epsilon=0.1, K_on=\"yes\", beta_on=\"yes_Lo17_RL\")\n",
    "\n",
    "print(\"\\nMdot = {:2E}, {:2E}, {:2E}\".format(Mdot_Elim_XUV, Mdot_Elim_X, Mdot_Elim_EUV))\n",
    "print(\"Mdot = {:2E}, {:2E}, {:2E}\".format(Mdot_Elim_nobeta, Mdot_Elim_nocutoff, Mdot_Elim_XUV_oldbeta))\n",
    "print(\"Mdot = {:2E}, {:2E}\".format(Mdot_Elim_Rbase, Mdot_Elim_Rbase_RLcut))"
   ]
  },
  {
   "cell_type": "code",
   "execution_count": 3,
   "metadata": {},
   "outputs": [
    {
     "name": "stdout",
     "output_type": "stream",
     "text": [
      "10.0 1.3e+30\n",
      "R = 1.4953487812212205\n",
      "R = 3.555088360266891\n",
      "M = 5.1000000000000005\n",
      "a = 0.09083849553562486\n",
      "R_RL = 36.68823415226986\n",
      "P =  10.0\n",
      "Mdot = -4.103624E+11\n"
     ]
    }
   ],
   "source": [
    "print(age_star, Lx_age)\n",
    "print(\"R =\", pl.core_radius)\n",
    "print(\"R =\", pl.radius)\n",
    "print(\"M =\", pl.mass)\n",
    "print(\"a =\", pl.distance)\n",
    "print(\"R_RL =\", pl.radius_RL)\n",
    "print(\"P = \", period)\n",
    "Mdot = mass_loss_rate(age_star,\n",
    "               Lx_age,\n",
    "               pl,\n",
    "               mass_loss_calc=\"RRlim\",\n",
    "               epsilon=0.1, K_on=\"yes\", beta_on=\"yes\",\n",
    "               f_env=pl.fenv,\n",
    "               beta_cutoff=True,\n",
    "               relation_EUV=\"Linsky\")\n",
    "print(\"Mdot = {:2E}\".format(Mdot))"
   ]
  },
  {
   "cell_type": "code",
   "execution_count": 4,
   "metadata": {},
   "outputs": [
    {
     "name": "stdout",
     "output_type": "stream",
     "text": [
      "Mdot = -4.103624E+11, -3.614362E+11, -1.943223E+11\n",
      "Mdot = -4.103624E+11\n"
     ]
    }
   ],
   "source": [
    "Mdot_RRlim_XUV = mass_loss_rate_RRlim(pl, \n",
    "                     M_p=pl.mass, R_p=pl.radius,\n",
    "                     Fxuv=flux_at_planet(l_xuv_all(pl.Lx_age), pl.distance),\n",
    "                     epsilon=0.1, K_on=\"yes\", beta_on=\"yes\",\n",
    "                     beta_cutoff=True)\n",
    "\n",
    "Mdot_RRlim_X = mass_loss_rate_RRlim(pl, \n",
    "                     M_p=pl.mass, R_p=pl.radius,\n",
    "                     Fxuv=flux_at_planet(pl.Lx_age, pl.distance),\n",
    "                     epsilon=0.1, K_on=\"yes\", beta_on=\"yes\",\n",
    "                     beta_cutoff=True)\n",
    "\n",
    "Mdot_RRlim_EUV = mass_loss_rate_RRlim(pl, \n",
    "                     M_p=pl.mass, R_p=pl.radius,\n",
    "                     Fxuv=flux_at_planet(calculate_EUV_luminosity_Linsky13_15(pl.Lx_age), pl.distance),\n",
    "                     epsilon=0.1, K_on=\"yes\", beta_on=\"yes\",\n",
    "                     beta_cutoff=True)\n",
    "\n",
    "print(\"Mdot = {:2E}, {:2E}, {:2E}\".format(Mdot_RRlim_XUV, Mdot_RRlim_X, Mdot_RRlim_EUV))\n",
    "#print(\"Mdot = {:2E}, {:2E}, {:2E}\".format(Mdot_Elim_XUV, Mdot_Elim_nocutoff, Mdot_Elim_Rbase))\n",
    "\n",
    "Mdot_ERRlim_XUV = mass_loss_rate(\n",
    "                               t_=age_star,\n",
    "                               track_dict=Lx_age,\n",
    "                               planet_object=pl,\n",
    "                               mass_loss_calc=\"Elim_and_RRlim\",\n",
    "                               epsilon=0.1, K_on=\"yes\", beta_on=\"yes\",\n",
    "                               f_env=pl.fenv,\n",
    "                               beta_cutoff=True,\n",
    "                               relation_EUV=\"Linsky\")\n",
    "\n",
    "print(\"Mdot = {:2E}\".format(Mdot_ERRlim_XUV))"
   ]
  },
  {
   "cell_type": "code",
   "execution_count": 5,
   "metadata": {},
   "outputs": [],
   "source": [
    "M_env = 1e-1\n",
    "M_core = 5.0\n",
    "M_pl = M_env + M_core\n",
    "fenv = (M_env / (M_env + M_core))*100\n",
    "fenv = 10.\n",
    "\n",
    "F_XUV_arr = []\n",
    "Mdot_Elim_XUV_arr = []\n",
    "Mdot_Elim_Rbase_RLcut_arr = []\n",
    "Mdot_RRlim_XUV_arr = []\n",
    "Mdot_HBA_XUV_arr = []\n",
    "Mdot_ERRlim_XUV_arr = []\n",
    "period = 10**np.linspace(np.log10(1),2,20) # days\n",
    "\n",
    "for i in range(len(period)):\n",
    "    a = kepler3.get_a_from_period(star[\"mass\"], M_pl, period[i])\n",
    "    planet = {\"core_mass\": M_core, \"fenv\": fenv,\n",
    "              \"distance\": a, \"metallicity\": \"solarZ\"}\n",
    "    pl = Planet_LoFo14(star, planet)\n",
    "    Mdot_Elim_XUV = mass_loss_rate_Elim(pl, \n",
    "                     M_p=pl.mass, R_p=pl.radius,\n",
    "                     Fxuv=flux_at_planet(l_xuv_all(pl.Lx_age), pl.distance),\n",
    "                     epsilon=0.1, K_on=\"yes\", beta_on=\"yes\",\n",
    "                     beta_cutoff=True)\n",
    "    Mdot_Elim_Rbase_RLcut = mass_loss_rate_Elim(pl, \n",
    "                     M_p=pl.mass, R_p=pl.radius,\n",
    "                     Fxuv=flux_at_planet(l_xuv_all(pl.Lx_age), pl.distance),\n",
    "                     epsilon=0.1, K_on=\"yes\", beta_on=\"yes_Lo17_RL\")\n",
    "    F_XUV_arr.append(flux_at_planet(l_xuv_all(pl.Lx_age), pl.distance))\n",
    "    Mdot_Elim_XUV_arr.append(Mdot_Elim_XUV)\n",
    "    Mdot_Elim_Rbase_RLcut_arr.append(Mdot_Elim_Rbase_RLcut)\n",
    "    \n",
    "    Mdot_RRlim_XUV = mass_loss_rate_RRlim(pl, \n",
    "                     M_p=pl.mass, R_p=pl.radius,\n",
    "                     Fxuv=flux_at_planet(l_xuv_all(pl.Lx_age), pl.distance),\n",
    "                     epsilon=0.1, K_on=\"yes\", beta_on=\"yes\",\n",
    "                     beta_cutoff=True)\n",
    "    Mdot_RRlim_XUV_arr.append(Mdot_RRlim_XUV)\n",
    "    \n",
    "    Mdot_HBA_XUV = mass_loss_rate_HBA(pl, \n",
    "                     M_p=pl.mass, R_p=pl.radius,\n",
    "                     Fxuv=flux_at_planet(l_xuv_all(pl.Lx_age), pl.distance))\n",
    "    Mdot_HBA_XUV_arr.append(Mdot_HBA_XUV)\n",
    "    \n",
    "    Mdot_ERRlim_XUV_arr.append(-min(-Mdot_RRlim_XUV, -Mdot_Elim_XUV))\n",
    "    \n",
    "\n",
    "F_XUV_arr = np.array(F_XUV_arr)\n",
    "Mdot_Elim_XUV_arr = np.array(Mdot_Elim_XUV_arr)\n",
    "Mdot_Elim_Rbase_RLcut_arr = np.array(Mdot_Elim_Rbase_RLcut_arr)\n",
    "Mdot_RRlim_XUV_arr = np.array(Mdot_RRlim_XUV_arr)\n",
    "Mdot_HBA_XUV_arr = np.array(Mdot_HBA_XUV_arr)\n",
    "Mdot_ERRlim_XUV_arr = np.array(Mdot_ERRlim_XUV_arr)"
   ]
  },
  {
   "cell_type": "code",
   "execution_count": 6,
   "metadata": {},
   "outputs": [
    {
     "data": {
      "text/plain": [
       "(array([1555778.9392037 , 1126151.99594989,  815166.14348247,\n",
       "         590058.75216657,  427114.56283127,  309167.2636203 ,\n",
       "         223791.00412979,  161991.32127691,  117257.56480282,\n",
       "          84876.99461372,   61438.28951907,   44472.16158168,\n",
       "          32191.21448903,   23301.63979943,   16866.91309915,\n",
       "          12209.13034203,    8837.59006953,    6397.09758591,\n",
       "           4630.54488856,    3351.82411664]),\n",
       " array([-9.86026416e+12, -7.75176344e+12, -6.10531880e+12, -4.81771917e+12,\n",
       "        -3.80914386e+12, -3.01780482e+12, -2.39582565e+12, -1.90607034e+12,\n",
       "        -1.51970148e+12, -1.21429915e+12, -9.72410624e+11, -7.80431690e+11,\n",
       "        -6.27742943e+11, -5.06042524e+11, -4.08830145e+11, -3.31007745e+11,\n",
       "        -2.68570119e+11, -2.18365001e+11, -1.53848155e+11, -1.05267424e+11]))"
      ]
     },
     "execution_count": 6,
     "metadata": {},
     "output_type": "execute_result"
    }
   ],
   "source": [
    "F_XUV_arr, Mdot_ERRlim_XUV_arr"
   ]
  },
  {
   "cell_type": "code",
   "execution_count": 22,
   "metadata": {},
   "outputs": [
    {
     "data": {
      "image/png": "[encoded data removed]",
      "text/plain": [
       "<Figure size 504x360 with 1 Axes>"
      ]
     },
     "metadata": {
      "needs_background": "light"
     },
     "output_type": "display_data"
    },
    {
     "data": {
      "image/png": "[encoded data removed]",
      "text/plain": [
       "<Figure size 504x360 with 1 Axes>"
      ]
     },
     "metadata": {
      "needs_background": "light"
     },
     "output_type": "display_data"
    }
   ],
   "source": [
    "fig, ax = plt.subplots(figsize=(7,5))\n",
    "ax.set_title(\"mass={:.1f}, R={:.1f}, fenv={:.1f}\".format(pl.mass, pl.radius, pl.fenv))\n",
    "ax.plot(period, -Mdot_Elim_XUV_arr, marker=\"s\", ls=\":\", lw=0.5, label=\"Elim (Salz  beta w. cutoff)\")\n",
    "ax.plot(period, -Mdot_Elim_Rbase_RLcut_arr, marker=\"o\", lw=0.5, ls=\":\", label=\"Elim_Rbase\")\n",
    "ax.plot(period, -Mdot_RRlim_XUV_arr, marker=\"^\", ls=\":\", lw=0.5, label=\"RRlim\")\n",
    "ax.plot(period, -Mdot_ERRlim_XUV_arr, marker=\".\", ls=\":\", lw=0.5, label=\"Elim-RRlim\")\n",
    "#ax.plot(period, -Mdot_HBA_XUV_arr, marker=\"*\", ls=\":\", lw=0.5, label=\"HBA (eps=0.15)\")\n",
    "ylim = ax.get_ylim()\n",
    "#ax.vlines(10, ylim[0], ylim[1], linestyle=\"--\", lw=0.7, color=\"grey\")\n",
    "ax.set_yscale(\"log\", basey=10); ax.set_xscale(\"log\", basex=10)\n",
    "ax.legend(fontsize=12)\n",
    "ax.set_xlabel(\"Period [d]\")\n",
    "ax.set_ylabel(\"Mass-loss rate [g/s]\")\n",
    "for axis in [ax.xaxis]: \n",
    "    formatter = FuncFormatter(lambda y, _: '{:.16g}'.format(y)) \n",
    "    axis.set_major_formatter(formatter)\n",
    "plt.tight_layout();\n",
    "\n",
    "fig, ax = plt.subplots(figsize=(7,5))\n",
    "ax.set_title(\"mass={:.1f}, R={:.1f}, fenv={:.1f}\".format(pl.mass, pl.radius, pl.fenv))\n",
    "ax.plot(F_XUV_arr, -Mdot_Elim_XUV_arr, marker=\"s\", ls=\":\", lw=0.5, label=\"Elim\")\n",
    "ax.plot(F_XUV_arr, -Mdot_Elim_Rbase_RLcut_arr, marker=\"o\", lw=0.5, ls=\":\", label=\"Elim_Rbase\")\n",
    "ax.plot(F_XUV_arr, -Mdot_RRlim_XUV_arr, marker=\"^\", ls=\":\", lw=0.5, label=\"RRlim\")\n",
    "ax.plot(F_XUV_arr, -Mdot_ERRlim_XUV_arr, marker=\".\", ls=\":\", lw=0.5, label=\"Elim-RRlim\")\n",
    "#ax.plot(F_XUV_arr, -Mdot_HBA_XUV_arr, marker=\"*\", ls=\":\", lw=0.5, label=\"HBA (eps=0.15)\")\n",
    "\n",
    "ax.set_yscale(\"log\", basey=10)\n",
    "ax.set_xscale(\"log\", basex=10)\n",
    "\n",
    "ylim = ax.get_ylim()\n",
    "xlim = ax.get_xlim()\n",
    "ax.set_xlim(xlim[1], xlim[0])\n",
    "ax.vlines(1e4, ylim[0], ylim[1], linestyle=\"--\", lw=0.7, color=\"grey\")\n",
    "\n",
    "ax.legend(fontsize=12)\n",
    "ax.set_xlabel(\"Flux [erg/s/cm^2]\")\n",
    "ax.set_ylabel(\"Mass-loss rate [g/s]\")\n",
    "for axis in [ax.xaxis]: \n",
    "    formatter = FuncFormatter(lambda y, _: '{:.0E}'.format(y)) \n",
    "    axis.set_major_formatter(formatter)\n",
    "plt.tight_layout();"
   ]
  },
  {
   "cell_type": "code",
   "execution_count": 18,
   "metadata": {},
   "outputs": [
    {
     "data": {
      "image/png": "[encoded data removed]",
      "text/plain": [
       "<Figure size 504x360 with 1 Axes>"
      ]
     },
     "metadata": {
      "needs_background": "light"
     },
     "output_type": "display_data"
    },
    {
     "data": {
      "image/png": "[encoded data removed]",
      "text/plain": [
       "<Figure size 504x360 with 1 Axes>"
      ]
     },
     "metadata": {
      "needs_background": "light"
     },
     "output_type": "display_data"
    }
   ],
   "source": [
    "fig, ax = plt.subplots(figsize=(7,5))\n",
    "ax.set_title(\"mass={:.1f}, R={:.1f}, fenv={:.1f}\".format(pl.mass, pl.radius, pl.fenv))\n",
    "ax.plot(period, -Mdot_Elim_XUV_arr, marker=\"s\", ls=\":\", lw=0.5, label=\"Elim (Salz  beta w. cutoff)\")\n",
    "ax.plot(period, -Mdot_Elim_Rbase_RLcut_arr, marker=\"o\", lw=0.5, ls=\":\", label=\"Elim_Rbase\")\n",
    "ax.plot(period, -Mdot_RRlim_XUV_arr, marker=\"^\", ls=\":\", lw=0.5, label=\"RRlim\")\n",
    "ax.plot(period, -Mdot_ERRlim_XUV_arr, marker=\".\", ls=\":\", lw=0.5, label=\"Elim-RRlim\")\n",
    "#ax.plot(period, -Mdot_HBA_XUV_arr, marker=\"*\", ls=\":\", lw=0.5, label=\"HBA (eps=0.15)\")\n",
    "ylim = ax.get_ylim()\n",
    "#ax.vlines(10, ylim[0], ylim[1], linestyle=\"--\", lw=0.7, color=\"grey\")\n",
    "ax.set_yscale(\"log\", basey=10); ax.set_xscale(\"log\", basex=10)\n",
    "ax.legend(fontsize=12)\n",
    "ax.set_xlabel(\"Period [d]\")\n",
    "ax.set_ylabel(\"Mass-loss rate [g/s]\")\n",
    "for axis in [ax.xaxis]: \n",
    "    formatter = FuncFormatter(lambda y, _: '{:.16g}'.format(y)) \n",
    "    axis.set_major_formatter(formatter)\n",
    "plt.tight_layout();\n",
    "\n",
    "fig, ax = plt.subplots(figsize=(7,5))\n",
    "ax.set_title(\"mass={:.1f}, R={:.1f}, fenv={:.1f}\".format(pl.mass, pl.radius, pl.fenv))\n",
    "ax.plot(F_XUV_arr, -Mdot_Elim_XUV_arr, marker=\"s\", ls=\":\", lw=0.5, label=\"Elim\")\n",
    "ax.plot(F_XUV_arr, -Mdot_Elim_Rbase_RLcut_arr, marker=\"o\", lw=0.5, ls=\":\", label=\"Elim_Rbase\")\n",
    "ax.plot(F_XUV_arr, -Mdot_RRlim_XUV_arr, marker=\"^\", ls=\":\", lw=0.5, label=\"RRlim\")\n",
    "ax.plot(F_XUV_arr, -Mdot_ERRlim_XUV_arr, marker=\".\", ls=\":\", lw=0.5, label=\"Elim-RRlim\")\n",
    "#ax.plot(F_XUV_arr, -Mdot_HBA_XUV_arr, marker=\"*\", ls=\":\", lw=0.5, label=\"HBA (eps=0.15)\")\n",
    "\n",
    "ax.set_yscale(\"log\", basey=10)\n",
    "ax.set_xscale(\"log\", basex=10)\n",
    "\n",
    "ylim = ax.get_ylim()\n",
    "xlim = ax.get_xlim()\n",
    "ax.set_xlim(xlim[1], xlim[0])\n",
    "ax.vlines(1e4, ylim[0], ylim[1], linestyle=\"--\", lw=0.7, color=\"grey\")\n",
    "\n",
    "ax.legend(fontsize=12)\n",
    "ax.set_xlabel(\"Flux [erg/s/cm^2]\")\n",
    "ax.set_ylabel(\"Mass-loss rate [g/s]\")\n",
    "for axis in [ax.xaxis]: \n",
    "    formatter = FuncFormatter(lambda y, _: '{:.0E}'.format(y)) \n",
    "    axis.set_major_formatter(formatter)\n",
    "plt.tight_layout();"
   ]
  },
  {
   "cell_type": "markdown",
   "metadata": {},
   "source": [
    "# TESTING"
   ]
  },
  {
   "cell_type": "code",
   "execution_count": 41,
   "metadata": {},
   "outputs": [
    {
     "name": "stdout",
     "output_type": "stream",
     "text": [
      "<class 'platypos.planet_ChRo16.Planet_ChRo16'>\n",
      "LoFo14:  False\n",
      "ChRo16:  True\n",
      "Ot20:    False\n"
     ]
    },
    {
     "data": {
      "text/plain": [
       "(2.7324873957971985, 5.831791854389194)"
      ]
     },
     "execution_count": 41,
     "metadata": {},
     "output_type": "execute_result"
    }
   ],
   "source": [
    "L_bol, mass_star, radius_star = 1., 1., 1.\n",
    "age_star = 10. # Myr\n",
    "Lx_age = Lx_chandra = 1.0e30  # erg/s in energy band: (0.1-2.4 keV)\n",
    "\n",
    "# use dictionary to store star-parameters\n",
    "star = {'star_id': 'dummy', 'mass': mass_star,\n",
    "        'radius': radius_star, 'age': age_star,\n",
    "        'L_bol': L_bol, 'Lx_age': Lx_age}\n",
    "\n",
    "Lx_1Gyr, Lx_5Gyr = 2.10*10**28, 1.65*10**27\n",
    "track_low = {\"t_start\": star[\"age\"], \"t_sat\": star[\"age\"],\n",
    "             \"t_curr\": 1000., \"t_5Gyr\": 5000., \"Lx_max\": Lx_age, \n",
    "             \"Lx_curr\": Lx_1Gyr, \"Lx_5Gyr\": Lx_5Gyr, \"dt_drop\": 20.,\n",
    "             \"Lx_drop_factor\": 16.}\n",
    "track_med = {\"t_start\": star[\"age\"], \"t_sat\": star[\"age\"],\n",
    "             \"t_curr\": 1000., \"t_5Gyr\": 5000., \"Lx_max\": Lx_age,\n",
    "             \"Lx_curr\": Lx_1Gyr, \"Lx_5Gyr\": Lx_5Gyr, \"dt_drop\": 0.,\n",
    "             \"Lx_drop_factor\": 0.}\n",
    "track_high = {\"t_start\": star[\"age\"], \"t_sat\": 240., \"t_curr\": 1000.,\n",
    "              \"t_5Gyr\": 5000., \"Lx_max\": Lx_age, \"Lx_curr\": Lx_1Gyr,\n",
    "              \"Lx_5Gyr\": Lx_5Gyr, \"dt_drop\": 0., \"Lx_drop_factor\": 0.}\n",
    "\n",
    "M_env = 1e-1\n",
    "M_core = 10.0\n",
    "M_pl = M_env + M_core\n",
    "fenv = (M_env / (M_env + M_core))*100\n",
    "\n",
    "# LoFo14 planet\n",
    "planet = {\"core_mass\": M_core, \"fenv\": fenv,\n",
    "          \"distance\": 0.05, \"metallicity\": \"solarZ\"}\n",
    "pl = Planet_LoFo14(star, planet)\n",
    "planet = {\"core_mass\": M_core, \"fenv\": fenv,\n",
    "          \"distance\": 0.05, \"core_comp\": \"rock\"}\n",
    "pl = Planet_ChRo16(star, planet)\n",
    "\n",
    "#planet = {\"mass\": M_pl, \"distance\": 0.05}\n",
    "#pl = Planet_Ot20(star, planet)\n",
    "print(type(pl))\n",
    "print(\"LoFo14: \", isinstance(pl, Planet_LoFo14))\n",
    "print(\"ChRo16: \", isinstance(pl, Planet_ChRo16))\n",
    "print(\"Ot20:   \", isinstance(pl, Planet_Ot20))\n",
    "\n",
    "pl.radius, plmoOt20.calculate_mass_planet_Ot20(2.15)"
   ]
  },
  {
   "cell_type": "code",
   "execution_count": 42,
   "metadata": {},
   "outputs": [
    {
     "name": "stdout",
     "output_type": "stream",
     "text": [
      "CPU times: user 7.51 s, sys: 7.98 ms, total: 7.52 s\n",
      "Wall time: 7.53 s\n"
     ]
    }
   ],
   "source": [
    "%%time\n",
    "\n",
    "folder_id = \"dummy\"\n",
    "directory = os.getcwd() + \"/\" + folder_id +\"/\"\n",
    "\n",
    "if not os.path.exists(directory):\n",
    "    os.makedirs(directory)\n",
    "else:\n",
    "    os.system(\"rm -r \" + directory[:-1])\n",
    "    os.makedirs(directory)\n",
    "\n",
    "t_final = 1e3\n",
    "pl.evolve_forward_and_create_full_output(t_final,\n",
    "                                         0.1,\n",
    "                                         0.1,\n",
    "                                         \"yes\",\n",
    "                                         \"yes_Lo17\",\n",
    "                                         track_high,\n",
    "                                         directory,\n",
    "                                         folder_id,\n",
    "                                         beta_cutoff=True,\n",
    "                                         relation_EUV=\"Linsky\",\n",
    "                                         mass_loss_calc=\"Elim_and_RRlim\")"
   ]
  },
  {
   "cell_type": "code",
   "execution_count": 5,
   "metadata": {},
   "outputs": [
    {
     "name": "stdout",
     "output_type": "stream",
     "text": [
      "2.3430121787796492e-07\n"
     ]
    }
   ],
   "source": [
    "M = 10.000000023430122\n",
    "R = 3.0245815462498804\n",
    "pl.core_mass, pl.core_radius\n",
    "\n",
    "M_env = M - pl.core_mass\n",
    "fenv = (M_env/M)*100.\n",
    "print(fenv)"
   ]
  },
  {
   "cell_type": "code",
   "execution_count": 5,
   "metadata": {},
   "outputs": [
    {
     "data": {
      "text/plain": [
       "(   Time       Mass    Radius            Lx\n",
       " 0  10.0  10.100000  3.034974  1.000000e+30\n",
       " 1  10.1  10.099780  3.031993  1.000000e+30\n",
       " 2  10.2  10.099561  3.029034  1.000000e+30\n",
       " 3  10.3  10.099343  3.026098  1.000000e+30\n",
       " 4  10.4  10.099126  3.023183  1.000000e+30,\n",
       "         Time       Mass    Radius            Lx\n",
       " 1062  116.20  10.000041  1.787998  1.000000e+30\n",
       " 1063  116.30  10.000007  1.781646  1.000000e+30\n",
       " 1064  116.31  10.000003  1.780519  1.000000e+30\n",
       " 1065  116.32  10.000000  1.778398  1.000000e+30\n",
       " 1066  116.33  10.000000  1.778279  1.000000e+30)"
      ]
     },
     "execution_count": 5,
     "metadata": {},
     "output_type": "execute_result"
    }
   ],
   "source": [
    "df_pl = pl.read_results(directory)\n",
    "df_pl.head(), df_pl.tail()"
   ]
  },
  {
   "cell_type": "code",
   "execution_count": 49,
   "metadata": {},
   "outputs": [
    {
     "data": {
      "image/png": "[encoded data removed]",
      "text/plain": [
       "<Figure size 720x360 with 1 Axes>"
      ]
     },
     "metadata": {
      "needs_background": "light"
     },
     "output_type": "display_data"
    }
   ],
   "source": [
    "fig, ax = plt.subplots(figsize=(10,5))\n",
    "age_arr = np.logspace(np.log10(pl.age), np.log10(t_final), 100)\n",
    "\n",
    "if (type(pl) == Planet_LoFo14):\n",
    "    ax.plot(age_arr, plmoLoFo14.calculate_planet_radius(pl.core_mass, pl.fenv, age_arr, pl.flux, pl.metallicity), \\\n",
    "            lw=2.5, label='thermal contraction only', color=\"blue\")\n",
    "elif (type(pl) == Planet_ChRo16):\n",
    "     ax.plot(age_arr, plmoChRo16.calculate_planet_radius(pl.core_mass, pl.fenv, pl.flux,age_arr, pl.core_comp), \\\n",
    "            lw=2.5, label='thermal contraction only', color=\"blue\")\n",
    "    \n",
    "ax.plot(df_pl[\"Time\"], df_pl[\"Radius\"], \n",
    "        marker=\".\", ls=\"--\", label='with photoevaporation', color=\"red\")\n",
    "#else:\n",
    "#    ax.plot(df_pl[\"Time\"], df_pl[\"Radius\"], marker=\"None\", ls=\"--\", label='with photoevaporation', color=\"red\")\n",
    "\n",
    "ax.legend(fontsize=10)\n",
    "ax.set_xlabel(\"Time [Myr]\", fontsize=16)\n",
    "ax.set_ylabel(\"Radius [R$_\\oplus$]\", fontsize=16)\n",
    "#ax.set_xscale('log')\n",
    "#ax.set_xlim(100.,120)\n",
    "ax.set_xlim(195.,200)\n",
    "#ax.set_ylim(5.15, 5.62)\n",
    "plt.show()"
   ]
  },
  {
   "cell_type": "code",
   "execution_count": 12,
   "metadata": {},
   "outputs": [
    {
     "data": {
      "image/png": "[encoded data removed]",
      "text/plain": [
       "<Figure size 720x360 with 1 Axes>"
      ]
     },
     "metadata": {
      "needs_background": "light"
     },
     "output_type": "display_data"
    }
   ],
   "source": [
    "fig, ax = plt.subplots(figsize=(10,5))\n",
    "age_arr = np.logspace(np.log10(pl.age), np.log10(t_final), 100)\n",
    "\n",
    "if (type(pl) == Planet_LoFo14):\n",
    "    ax.plot(age_arr, plmoLoFo14.calculate_planet_radius(pl.core_mass, pl.fenv, age_arr, pl.flux, pl.metallicity), \\\n",
    "            lw=2.5, label='thermal contraction only', color=\"blue\")\n",
    "elif (type(pl) == Planet_ChRo16):\n",
    "     ax.plot(age_arr, plmoChRo16.calculate_planet_radius(pl.core_mass, pl.fenv, pl.flux,age_arr, pl.core_comp), \\\n",
    "            lw=2.5, label='thermal contraction only', color=\"blue\")\n",
    "    \n",
    "ax.plot(df_pl[\"Time\"], df_pl[\"Radius\"], \n",
    "        marker=\".\", ls=\"--\", label='with photoevaporation', color=\"red\")\n",
    "#else:\n",
    "#    ax.plot(df_pl[\"Time\"], df_pl[\"Radius\"], marker=\"None\", ls=\"--\", label='with photoevaporation', color=\"red\")\n",
    "\n",
    "ax.legend(fontsize=10)\n",
    "ax.set_xlabel(\"Time [Myr]\", fontsize=16)\n",
    "ax.set_ylabel(\"Radius [R$_\\oplus$]\", fontsize=16)\n",
    "#ax.set_xscale('log')\n",
    "ax.set_xlim(100.,120)\n",
    "#ax.set_ylim(5.15, 5.62)\n",
    "plt.show()"
   ]
  },
  {
   "cell_type": "markdown",
   "metadata": {},
   "source": [
    "# V1298 Tau example"
   ]
  },
  {
   "cell_type": "code",
   "execution_count": 20,
   "metadata": {},
   "outputs": [
    {
     "data": {
      "text/html": [
       "<div>\n",
       "<style scoped>\n",
       "    .dataframe tbody tr th:only-of-type {\n",
       "        vertical-align: middle;\n",
       "    }\n",
       "\n",
       "    .dataframe tbody tr th {\n",
       "        vertical-align: top;\n",
       "    }\n",
       "\n",
       "    .dataframe thead th {\n",
       "        text-align: right;\n",
       "    }\n",
       "</style>\n",
       "<table border=\"1\" class=\"dataframe\">\n",
       "  <thead>\n",
       "    <tr style=\"text-align: right;\">\n",
       "      <th></th>\n",
       "      <th>radius</th>\n",
       "      <th>a</th>\n",
       "      <th>period</th>\n",
       "    </tr>\n",
       "  </thead>\n",
       "  <tbody>\n",
       "    <tr>\n",
       "      <th>planet_c</th>\n",
       "      <td>5.59</td>\n",
       "      <td>0.0825</td>\n",
       "      <td>8.24958</td>\n",
       "    </tr>\n",
       "    <tr>\n",
       "      <th>planet_d</th>\n",
       "      <td>6.41</td>\n",
       "      <td>0.1083</td>\n",
       "      <td>12.40320</td>\n",
       "    </tr>\n",
       "    <tr>\n",
       "      <th>planet_b</th>\n",
       "      <td>10.27</td>\n",
       "      <td>0.1688</td>\n",
       "      <td>24.13960</td>\n",
       "    </tr>\n",
       "    <tr>\n",
       "      <th>planet_e</th>\n",
       "      <td>8.74</td>\n",
       "      <td>0.3080</td>\n",
       "      <td>60.00000</td>\n",
       "    </tr>\n",
       "  </tbody>\n",
       "</table>\n",
       "</div>"
      ],
      "text/plain": [
       "          radius       a    period\n",
       "planet_c    5.59  0.0825   8.24958\n",
       "planet_d    6.41  0.1083  12.40320\n",
       "planet_b   10.27  0.1688  24.13960\n",
       "planet_e    8.74  0.3080  60.00000"
      ]
     },
     "execution_count": 20,
     "metadata": {},
     "output_type": "execute_result"
    }
   ],
   "source": [
    "# Stellar Parameters:\n",
    "# -------------------\n",
    "# (David et al. 2019, Chandra observation)\n",
    "L_bol, mass_star, radius_star = 0.934, 1.101, 1.345 # solar units\n",
    "age_star = 23. # Myr\n",
    "Lx_age = Lx_chandra = 1.3e30  # erg/s in energy band: (0.1-2.4 keV)\n",
    "Lx_age_error = 1.4e29\n",
    "# use dictionary to store star-parameters\n",
    "star_V1298Tau = {'star_id': 'V1298Tau', 'mass': mass_star, 'radius': radius_star, 'age': age_star, 'L_bol': L_bol, 'Lx_age': Lx_age}\n",
    "\n",
    "\n",
    "# Lx evolutionary tracks:\n",
    "# -----------------------\n",
    "# create dictionaries with all the values necessary to define the evolutionary paths (this is done by the function Lx_evo)\n",
    "# this includes: starting age, age until Lx is saturated, two fixed ages at 1 & 5 Gyr which are set by the Tu et al. (2015) model tracks, \n",
    "# and (if wanted) a time interval in which and factor by which Lx drops (if you want a to mimic a track which drops fast early and then levels out).\n",
    "Lx_1Gyr, Lx_5Gyr = 2.10*10**28, 1.65*10**27  # Lx value at 1 and 5 Gyr from Tu et al. (2015) model tracks\n",
    "\n",
    "# use dictionaries to store track-parameters\n",
    "track1 = {\"t_start\": star_V1298Tau[\"age\"], \"t_sat\": 240., \"t_curr\": 1000., \"t_5Gyr\": 5000., \"Lx_max\": Lx_age, \"Lx_curr\": Lx_1Gyr, \"Lx_5Gyr\": Lx_5Gyr, \"dt_drop\": 0., \"Lx_drop_factor\": 0.}\n",
    "track2 = {\"t_start\": star_V1298Tau[\"age\"], \"t_sat\": star_V1298Tau[\"age\"], \"t_curr\": 1000., \"t_5Gyr\": 5000., \"Lx_max\": Lx_age, \"Lx_curr\": Lx_1Gyr, \"Lx_5Gyr\": Lx_5Gyr, \"dt_drop\": 0., \"Lx_drop_factor\": 0.}\n",
    "track3 = {\"t_start\": star_V1298Tau[\"age\"], \"t_sat\": star_V1298Tau[\"age\"], \"t_curr\": 1000., \"t_5Gyr\": 5000., \"Lx_max\": Lx_age, \"Lx_curr\": Lx_1Gyr, \"Lx_5Gyr\": Lx_5Gyr, \"dt_drop\": 20., \"Lx_drop_factor\": 16.}\n",
    "list_tracks = [track1, track2, track3]\n",
    "\n",
    "# these are the tracks which use the upper and lower value of the current Lx\n",
    "track1_lower = track1.copy()\n",
    "track1_lower[\"Lx_max\"] = Lx_age-Lx_age_error\n",
    "track2_lower = track2.copy()\n",
    "track2_lower[\"Lx_max\"] = Lx_age-Lx_age_error\n",
    "track3_lower = track3.copy()\n",
    "track3_lower[\"Lx_max\"] = Lx_age-Lx_age_error\n",
    "list_tracks_lower = [track1_lower, track2_lower, track3_lower]\n",
    "\n",
    "track1_upper = track1.copy()\n",
    "track1_upper[\"Lx_max\"] = Lx_age+Lx_age_error\n",
    "track2_upper = track2.copy()\n",
    "track2_upper[\"Lx_max\"] = Lx_age+Lx_age_error\n",
    "track3_upper = track3.copy()\n",
    "track3_upper[\"Lx_max\"] = Lx_age+Lx_age_error\n",
    "list_tracks_upper = [track1_upper, track2_upper, track3_upper]\n",
    "\n",
    "# additional tracks could look like this (different t_sat)\n",
    "#track2_2 = {\"t_start\": star_V1298Tau[\"age\"], \"t_sat\": 70., \"t_curr\": 1000., \"t_5Gyr\": 5000., \"Lx_max\": Lx_age, \"Lx_curr\": Lx_1Gyr, \"Lx_5Gyr\": Lx_5Gyr, \"dt_drop\": 20., \"Lx_drop_factor\": 5.}\n",
    "#track2_3 = {\"t_start\": star_V1298Tau[\"age\"], \"t_sat\": 100., \"t_curr\": 1000., \"t_5Gyr\": 5000., \"Lx_max\": Lx_age, \"Lx_curr\": Lx_1Gyr, \"Lx_5Gyr\": Lx_5Gyr, \"dt_drop\": 0., \"Lx_drop_factor\": 0.}\n",
    "\n",
    "\n",
    "# Observed planet parameters \n",
    "# --------------------------\n",
    "# radius R, semi-major axis a and period P from David et al. (2019)\n",
    "pl_params = pd.read_csv(\"../supplementary_files/V1298Tau_planet_parameters.csv\", index_col=0)\n",
    "\n",
    "R_c, R_d, R_b, R_e = pl_params.loc[\"planet_c\"].radius, pl_params.loc[\"planet_d\"].radius, pl_params.loc[\"planet_b\"].radius, pl_params.loc[\"planet_e\"].radius\n",
    "a_c, a_d, a_b, a_e = pl_params.loc[\"planet_c\"].a, pl_params.loc[\"planet_d\"].a, pl_params.loc[\"planet_b\"].a, pl_params.loc[\"planet_e\"].a\n",
    "P_c, P_d, P_b, P_e = pl_params.loc[\"planet_c\"].period, pl_params.loc[\"planet_d\"].period, pl_params.loc[\"planet_b\"].period, pl_params.loc[\"planet_e\"].period\n",
    "pl_params.head()"
   ]
  },
  {
   "cell_type": "markdown",
   "metadata": {
    "toc-hr-collapsed": true,
    "toc-nb-collapsed": true
   },
   "source": [
    "# Create Planet object and stellar evolutionary track"
   ]
  },
  {
   "cell_type": "code",
   "execution_count": null,
   "metadata": {},
   "outputs": [],
   "source": []
  },
  {
   "cell_type": "code",
   "execution_count": null,
   "metadata": {},
   "outputs": [],
   "source": []
  },
  {
   "cell_type": "code",
   "execution_count": null,
   "metadata": {},
   "outputs": [],
   "source": []
  },
  {
   "cell_type": "markdown",
   "metadata": {},
   "source": [
    "## Example planet 1.1 - V1298Tau c with 5 Eearth mass core and measured radius (var. step)"
   ]
  },
  {
   "cell_type": "code",
   "execution_count": 2,
   "metadata": {},
   "outputs": [
    {
     "data": {
      "text/plain": [
       "{'star_id': 'V1298Tau',\n",
       " 'mass_star': 1.101,\n",
       " 'radius_star': 1.345,\n",
       " 'age': 23.0,\n",
       " 'Lbol': 3.5753520000000005e+33,\n",
       " 'Lx_age': 1.3e+30,\n",
       " 'Lx_sat_info': None,\n",
       " 'distance': 0.0825,\n",
       " 'metallicity': 'solarZ',\n",
       " 'flux': 136.04409090618665,\n",
       " 't_eq': 952.6201533930437,\n",
       " 'has_evolved': False,\n",
       " 'planet_id': 'dummy',\n",
       " 'planet_info': 'Case 2 - obs. planet with radius, but no mass measurement',\n",
       " 'core_mass': 5.0,\n",
       " 'radius': 5.59,\n",
       " 'core_radius': 1.4953487812212205,\n",
       " 'fenv': 7.42119964332844,\n",
       " 'mass': 5.4008044830316075,\n",
       " 'density': 0.16990523970140295,\n",
       " 'grav_potential': -603799923496.6542,\n",
       " 'lambda_escape': 7.682886103221436,\n",
       " 'radius_RL': 32.891061993434235}"
      ]
     },
     "execution_count": 2,
     "metadata": {},
     "output_type": "execute_result"
    }
   ],
   "source": [
    "# (David et al. 2019, Chandra observation)\n",
    "L_bol, mass_star, radius_star = 0.934, 1.101, 1.345 # solar units\n",
    "age_star = 23. # Myr\n",
    "Lx_age = Lx_chandra = 1.3e30  # erg/s in energy band: (0.1-2.4 keV)\n",
    "Lx_age_error = 1.4e29\n",
    "\n",
    "# use dictionary to store star-parameters\n",
    "star_V1298Tau = {'star_id': 'V1298Tau', 'mass': mass_star, 'radius': radius_star, 'age': age_star, 'L_bol': L_bol, 'Lx_age': Lx_age}\n",
    "\n",
    "Lx_1Gyr, Lx_5Gyr = 2.10*10**28, 1.65*10**27\n",
    "track_low = {\"t_start\": star_V1298Tau[\"age\"], \"t_sat\": star_V1298Tau[\"age\"], \"t_curr\": 1000., \"t_5Gyr\": 5000., \"Lx_max\": Lx_age, \n",
    "         \"Lx_curr\": Lx_1Gyr, \"Lx_5Gyr\": Lx_5Gyr, \"dt_drop\": 20., \"Lx_drop_factor\": 16.}\n",
    "track_med = {\"t_start\": star_V1298Tau[\"age\"], \"t_sat\": star_V1298Tau[\"age\"], \"t_curr\": 1000., \"t_5Gyr\": 5000., \"Lx_max\": Lx_age, \n",
    "         \"Lx_curr\": Lx_1Gyr, \"Lx_5Gyr\": Lx_5Gyr, \"dt_drop\": 0., \"Lx_drop_factor\": 0.}\n",
    "track_high = {\"t_start\": star_V1298Tau[\"age\"], \"t_sat\": 240., \"t_curr\": 1000., \"t_5Gyr\": 5000., \"Lx_max\": Lx_age, \n",
    "         \"Lx_curr\": Lx_1Gyr, \"Lx_5Gyr\": Lx_5Gyr, \"dt_drop\": 0., \"Lx_drop_factor\": 0.}\n",
    "\n",
    "# planet c\n",
    "planet = {\"core_mass\": 5.0, \"radius\": 5.59, \"distance\": 0.0825, \"metallicity\": \"solarZ\"}\n",
    "\n",
    "pl = Planet_LoFo14(star_V1298Tau, planet)\n",
    "pl.__dict__"
   ]
  },
  {
   "cell_type": "markdown",
   "metadata": {},
   "source": [
    "### Example planet 1.1.1 - V1298Tau c with 5 Eearth mass core and measured radius (fixed step)"
   ]
  },
  {
   "cell_type": "code",
   "execution_count": 6,
   "metadata": {},
   "outputs": [],
   "source": [
    "pl = Planet_LoFo14_PAPER(star_V1298Tau, planet)"
   ]
  },
  {
   "cell_type": "markdown",
   "metadata": {},
   "source": [
    "## Example planet 1.2 - V1298Tau c with mass estimate from Otegi et al. (2020) and measured radius (var step)"
   ]
  },
  {
   "cell_type": "code",
   "execution_count": 3,
   "metadata": {},
   "outputs": [
    {
     "data": {
      "text/plain": [
       "{'star_id': 'V1298Tau',\n",
       " 'mass_star': 1.101,\n",
       " 'radius_star': 1.345,\n",
       " 'age': 23.0,\n",
       " 'Lbol': 3.5753520000000005e+33,\n",
       " 'Lx_age': 1.3e+30,\n",
       " 'distance': 0.0825,\n",
       " 'flux': 136.04409090618665,\n",
       " 'has_evolved': False,\n",
       " 'planet_id': 'dummy',\n",
       " 'radius': 5.59,\n",
       " 'mass': 26.391246598963903,\n",
       " 'Lx_sat_info': None}"
      ]
     },
     "execution_count": 3,
     "metadata": {},
     "output_type": "execute_result"
    }
   ],
   "source": [
    "pl = Planet_Ot20(star_V1298Tau, planet)\n",
    "pl.__dict__"
   ]
  },
  {
   "cell_type": "markdown",
   "metadata": {},
   "source": [
    "### Example planet 1.2.1 - V1298Tau c with mass estimate from Otegi et al. (2020) and measured radius (fixed step)"
   ]
  },
  {
   "cell_type": "code",
   "execution_count": 7,
   "metadata": {},
   "outputs": [
    {
     "data": {
      "text/plain": [
       "{'star_id': 'V1298Tau',\n",
       " 'mass_star': 1.101,\n",
       " 'radius_star': 1.345,\n",
       " 'age': 23.0,\n",
       " 'Lbol': 3.5753520000000005e+33,\n",
       " 'Lx_age': 1.3e+30,\n",
       " 'distance': 0.0825,\n",
       " 'flux': 136.04409090618665,\n",
       " 'has_evolved': False,\n",
       " 'planet_id': 'dummy',\n",
       " 'radius': 5.59,\n",
       " 'mass': 26.391246598963903,\n",
       " 'Lx_sat_info': None}"
      ]
     },
     "execution_count": 7,
     "metadata": {},
     "output_type": "execute_result"
    }
   ],
   "source": [
    "pl = Planet_Ot20_PAPER(star_V1298Tau, planet)\n",
    "pl.__dict__"
   ]
  },
  {
   "cell_type": "markdown",
   "metadata": {},
   "source": [
    "## Example planet 2 - artificial planet with specified core mass and envelope mass fraction"
   ]
  },
  {
   "cell_type": "code",
   "execution_count": 12,
   "metadata": {
    "scrolled": true
   },
   "outputs": [],
   "source": [
    "Lx_1Gyr, Lx_5Gyr = 2.10*10**28, 1.65*10**27\n",
    "\n",
    "dict_star = {'star_id': 'star_age1.0_mass0.89',\n",
    " 'mass': 0.8879632311581124,\n",
    " 'radius': None,\n",
    " 'age': 1.0,\n",
    " 'L_bol': 1.9992811847525246e+33/const.L_sun.cgs.value,\n",
    " 'Lx_age': 1.298868513129789e+30}\n",
    "\n",
    "dict_pl = {'distance': 0.12248611607793611,\n",
    " 'metallicity': 'solarZ',\n",
    "'fenv': 3.7544067802231664,\n",
    " 'core_mass': 4.490153906104026}\n",
    "\n",
    "track = {\"t_start\": dict_star[\"age\"], \"t_sat\": 100., \"t_curr\": 1000., \"t_5Gyr\": 5000., \"Lx_max\": Lx_age, \n",
    "         \"Lx_curr\": Lx_1Gyr, \"Lx_5Gyr\": Lx_5Gyr, \"dt_drop\": 0., \"Lx_drop_factor\": 0.}\n",
    "\n",
    "pl = Planet_LoFo14(dict_star, dict_pl)\n",
    "#pl.__dict__"
   ]
  },
  {
   "cell_type": "markdown",
   "metadata": {},
   "source": [
    "# Evolve & create outputs"
   ]
  },
  {
   "cell_type": "code",
   "execution_count": 34,
   "metadata": {},
   "outputs": [
    {
     "data": {
      "text/plain": [
       "0.0825"
      ]
     },
     "execution_count": 34,
     "metadata": {},
     "output_type": "execute_result"
    }
   ],
   "source": [
    "planet_c = {\"core_mass\": 5.0, \"radius\": R_c, \"distance\": a_c, \"metallicity\": \"solarZ\"}\n",
    "planet_d = {\"core_mass\": 5.0, \"radius\": R_d, \"distance\": a_d, \"metallicity\": \"solarZ\"}\n",
    "planet_b = {\"core_mass\": 5.0, \"radius\": R_b, \"distance\": a_b, \"metallicity\": \"solarZ\"}\n",
    "planet_e = {\"core_mass\": 5.0, \"radius\": R_e, \"distance\": a_e, \"metallicity\": \"solarZ\"}\n",
    "\n",
    "# variable step size\n",
    "pl_c_5 = Planet_LoFo14(star_dictionary=star_V1298Tau, planet_dict=planet_c)\n",
    "pl_d_5 = Planet_LoFo14(star_dictionary=star_V1298Tau, planet_dict=planet_d)\n",
    "pl_b_5 = Planet_LoFo14(star_dictionary=star_V1298Tau, planet_dict=planet_b)\n",
    "pl_e_5 = Planet_LoFo14(star_dictionary=star_V1298Tau, planet_dict=planet_e)\n",
    "planet_list_Mcore5 = [pl_c_5, pl_d_5, pl_b_5, pl_e_5]\n",
    "\n",
    "pl = planet_list_Mcore5[0]\n",
    "pl.distance"
   ]
  },
  {
   "cell_type": "code",
   "execution_count": 38,
   "metadata": {},
   "outputs": [
    {
     "name": "stdout",
     "output_type": "stream",
     "text": [
      "CPU times: user 29.1 s, sys: 3.99 ms, total: 29.1 s\n",
      "Wall time: 29.1 s\n"
     ]
    }
   ],
   "source": [
    "%%time\n",
    "\n",
    "folder_id = \"dummy\"\n",
    "path_save = os.getcwd() + \"/\" + folder_id +\"/\"\n",
    "if not os.path.exists(path_save):\n",
    "    os.makedirs(path_save)\n",
    "else:\n",
    "    os.system(\"rm -r \" + path_save[:-1])\n",
    "    os.makedirs(path_save)\n",
    "\n",
    "t_final = 5007.\n",
    "pl.evolve_forward_and_create_full_output(t_final,\n",
    "                                         0.1,\n",
    "                                         0.1,\n",
    "                                         \"yes\",\n",
    "                                         \"yes\",\n",
    "                                         track1,\n",
    "                                         path_save,\n",
    "                                         folder_id,\n",
    "                                         beta_cutoff=True,\n",
    "                                         relation_EUV=\"SanzFo\",\n",
    "                                         mass_loss_calc=\"Elim\")"
   ]
  },
  {
   "cell_type": "markdown",
   "metadata": {},
   "source": [
    "# Read in results and plot"
   ]
  },
  {
   "cell_type": "code",
   "execution_count": 39,
   "metadata": {},
   "outputs": [
    {
     "data": {
      "text/plain": [
       "(    Time      Mass    Radius            Lx\n",
       " 0  23.00  5.400804  5.590000  1.300000e+30\n",
       " 1  23.01  5.400148  5.586243  1.300000e+30\n",
       " 2  23.02  5.399493  5.582491  1.300000e+30\n",
       " 3  23.03  5.398839  5.578743  1.300000e+30\n",
       " 4  23.04  5.398186  5.575000  1.300000e+30,\n",
       "        Time      Mass    Radius            Lx\n",
       " 3287  55.87  5.000033  1.510833  1.300000e+30\n",
       " 3288  55.88  5.000025  1.508341  1.300000e+30\n",
       " 3289  55.89  5.000016  1.505477  1.300000e+30\n",
       " 3290  55.90  5.000008  1.501907  1.300000e+30\n",
       " 3291  55.91  5.000000  1.495349  1.300000e+30)"
      ]
     },
     "execution_count": 39,
     "metadata": {},
     "output_type": "execute_result"
    }
   ],
   "source": [
    "df_pl = pl.read_results(path_save)\n",
    "df_pl.head(), df_pl.tail()"
   ]
  },
  {
   "cell_type": "code",
   "execution_count": 40,
   "metadata": {},
   "outputs": [
    {
     "data": {
      "image/png": "[encoded data removed]",
      "text/plain": [
       "<Figure size 720x360 with 1 Axes>"
      ]
     },
     "metadata": {
      "needs_background": "light"
     },
     "output_type": "display_data"
    }
   ],
   "source": [
    "fig, ax = plt.subplots(figsize=(10,5))\n",
    "age_arr = np.logspace(np.log10(pl.age), np.log10(t_final), 100)\n",
    "\n",
    "if (type(pl) == Planet_LoFo14):\n",
    "    ax.plot(age_arr, plmoLoFo14.calculate_planet_radius(pl.core_mass, pl.fenv, age_arr, pl.flux, pl.metallicity), \\\n",
    "            lw=2.5, label='thermal contraction only', color=\"blue\")\n",
    "elif (type(pl) == Planet_ChRo16):\n",
    "     ax.plot(age_arr, plmoChRo16.calculate_planet_radius(pl.core_mass, pl.fenv, pl.flux,age_arr, pl.core_comp), \\\n",
    "            lw=2.5, label='thermal contraction only', color=\"blue\")\n",
    "    \n",
    "ax.plot(df_pl[\"Time\"], df_pl[\"Radius\"], \n",
    "        marker=\".\", ls=\"--\", label='with photoevaporation', color=\"red\")\n",
    "\n",
    "ax.legend(fontsize=10)\n",
    "ax.set_xlabel(\"Time [Myr]\", fontsize=16)\n",
    "ax.set_ylabel(\"Radius [R$_\\oplus$]\", fontsize=16)\n",
    "ax.set_xscale('log')\n",
    "#ax.set_ylim(5.15, 5.62)\n",
    "for axis in [ax.xaxis]: \n",
    "    formatter = FuncFormatter(lambda y, _: '{:.16g}'.format(y)) \n",
    "    axis.set_major_formatter(formatter)\n",
    "plt.show()"
   ]
  },
  {
   "cell_type": "code",
   "execution_count": null,
   "metadata": {},
   "outputs": [],
   "source": []
  }
 ],
 "metadata": {
  "kernelspec": {
   "display_name": "Python 3",
   "language": "python",
   "name": "python3"
  },
  "language_info": {
   "codemirror_mode": {
    "name": "ipython",
    "version": 3
   },
   "file_extension": ".py",
   "mimetype": "text/x-python",
   "name": "python",
   "nbconvert_exporter": "python",
   "pygments_lexer": "ipython3",
   "version": "3.7.2"
  },
  "toc": {
   "base_numbering": 1,
   "nav_menu": {},
   "number_sections": true,
   "sideBar": true,
   "skip_h1_title": false,
   "title_cell": "Table of Contents",
   "title_sidebar": "Contents",
   "toc_cell": false,
   "toc_position": {},
   "toc_section_display": true,
   "toc_window_display": false
  },
  "varInspector": {
   "cols": {
    "lenName": 16,
    "lenType": 16,
    "lenVar": 40
   },
   "kernels_config": {
    "python": {
     "delete_cmd_postfix": "",
     "delete_cmd_prefix": "del ",
     "library": "var_list.py",
     "varRefreshCmd": "print(var_dic_list())"
    },
    "r": {
     "delete_cmd_postfix": ") ",
     "delete_cmd_prefix": "rm(",
     "library": "var_list.r",
     "varRefreshCmd": "cat(var_dic_list()) "
    }
   },
   "types_to_exclude": [
    "module",
    "function",
    "builtin_function_or_method",
    "instance",
    "_Feature"
   ],
   "window_display": false
  }
 },
 "nbformat": 4,
 "nbformat_minor": 4
}
